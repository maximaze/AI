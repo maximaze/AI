{
 "cells": [
  {
   "cell_type": "code",
   "execution_count": 1,
   "metadata": {},
   "outputs": [
    {
     "name": "stdout",
     "output_type": "stream",
     "text": [
      "       height  weight   label  label_pat\n",
      "0       0.710    0.62     fat  [0, 0, 1]\n",
      "1       0.710    0.73     fat  [0, 0, 1]\n",
      "2       0.885    0.61  normal  [0, 1, 0]\n",
      "3       0.935    0.48    thin  [1, 0, 0]\n",
      "4       0.765    0.60     fat  [0, 0, 1]\n",
      "...       ...     ...     ...        ...\n",
      "19995   0.610    0.58     fat  [0, 0, 1]\n",
      "19996   0.965    0.69  normal  [0, 1, 0]\n",
      "19997   0.965    0.37    thin  [1, 0, 0]\n",
      "19998   0.975    0.51    thin  [1, 0, 0]\n",
      "19999   0.815    0.67  normal  [0, 1, 0]\n",
      "\n",
      "[20000 rows x 4 columns]\n"
     ]
    }
   ],
   "source": [
    "import pandas as pd\n",
    "import numpy as np\n",
    "import json\n",
    "\n",
    "# 키, 몸무게, 레이블이 적힌 CSV 파일 읽어 들이기\n",
    "csv = pd.read_csv(\"bmi.csv\")\n",
    "# 레이블을 배열로 변환하기\n",
    "bclass = {\"thin\": [1,0,0], \"normal\": [0,1,0], \"fat\": [0,0,1]}\n",
    "csv[\"label_pat\"] = csv[\"label\"].apply(lambda x : np.array(bclass[x]))\n",
    "# 데이터 정규화\n",
    "csv[\"height\"] = csv[\"height\"] / 200\n",
    "csv[\"weight\"] = csv[\"weight\"] / 100\n",
    "print(csv)\n"
   ]
  },
  {
   "cell_type": "code",
   "execution_count": 2,
   "metadata": {},
   "outputs": [
    {
     "data": {
      "text/html": [
       "<div>\n",
       "<style scoped>\n",
       "    .dataframe tbody tr th:only-of-type {\n",
       "        vertical-align: middle;\n",
       "    }\n",
       "\n",
       "    .dataframe tbody tr th {\n",
       "        vertical-align: top;\n",
       "    }\n",
       "\n",
       "    .dataframe thead th {\n",
       "        text-align: right;\n",
       "    }\n",
       "</style>\n",
       "<table border=\"1\" class=\"dataframe\">\n",
       "  <thead>\n",
       "    <tr style=\"text-align: right;\">\n",
       "      <th></th>\n",
       "      <th>height</th>\n",
       "      <th>weight</th>\n",
       "      <th>label</th>\n",
       "      <th>label_pat</th>\n",
       "    </tr>\n",
       "  </thead>\n",
       "  <tbody>\n",
       "  </tbody>\n",
       "</table>\n",
       "</div>"
      ],
      "text/plain": [
       "Empty DataFrame\n",
       "Columns: [height, weight, label, label_pat]\n",
       "Index: []"
      ]
     },
     "execution_count": 2,
     "metadata": {},
     "output_type": "execute_result"
    }
   ],
   "source": [
    "step=0\n",
    "rows = csv[step*10:(step+1)*10]\n",
    "x_pat = rows[[\"weight\",\"height\"]]\n",
    "y_ans = rows[\"label_pat\"]\n",
    "\n",
    "csv[0:0]"
   ]
  },
  {
   "cell_type": "code",
   "execution_count": 5,
   "metadata": {},
   "outputs": [],
   "source": [
    "import tensorflow.compat.v1 as tf\n",
    "\n",
    "tf.compat.v1.disable_eager_execution()\n"
   ]
  },
  {
   "cell_type": "code",
   "execution_count": 6,
   "metadata": {},
   "outputs": [
    {
     "name": "stdout",
     "output_type": "stream",
     "text": [
      "Metal device set to: Apple M2\n"
     ]
    },
    {
     "name": "stderr",
     "output_type": "stream",
     "text": [
      "2023-02-14 16:09:12.978000: I tensorflow/core/common_runtime/pluggable_device/pluggable_device_factory.cc:306] Could not identify NUMA node of platform GPU ID 0, defaulting to 0. Your kernel may not have been built with NUMA support.\n",
      "2023-02-14 16:09:12.978046: I tensorflow/core/common_runtime/pluggable_device/pluggable_device_factory.cc:272] Created TensorFlow device (/job:localhost/replica:0/task:0/device:GPU:0 with 0 MB memory) -> physical PluggableDevice (device: 0, name: METAL, pci bus id: <undefined>)\n"
     ]
    },
    {
     "data": {
      "text/plain": [
       "array([[0., 0., 1.],\n",
       "       [0., 1., 0.],\n",
       "       [1., 0., 0.],\n",
       "       [0., 0., 1.],\n",
       "       [1., 0., 0.],\n",
       "       [0., 1., 0.],\n",
       "       [1., 0., 0.],\n",
       "       [1., 0., 0.],\n",
       "       [1., 0., 0.]], dtype=float32)"
      ]
     },
     "execution_count": 6,
     "metadata": {},
     "output_type": "execute_result"
    }
   ],
   "source": [
    "step = 0\n",
    "rows = csv[1+step*10:(step+1)*10]\n",
    "x_pat = rows[[\"weight\",\"height\"]]\n",
    "y_ans = list(rows[\"label_pat\"])\n",
    "\n",
    "x = tf.placeholder(tf.float32, [None, 2], name=\"x\")\n",
    "y_ = tf.placeholder(tf.float32, [None, 3], name=\"y_\")\n",
    "\n",
    "sess = tf.Session()\n",
    "#sess.run(x, feed_dict={x: x_pat})\n",
    "sess.run(y_, feed_dict={y_: y_ans})\n",
    "\n",
    "\n"
   ]
  },
  {
   "cell_type": "code",
   "execution_count": 7,
   "metadata": {},
   "outputs": [
    {
     "name": "stdout",
     "output_type": "stream",
     "text": [
      "WARNING:tensorflow:From /Users/yong/miniconda3/lib/python3.10/site-packages/tensorflow/python/util/tf_should_use.py:243: initialize_all_variables (from tensorflow.python.ops.variables) is deprecated and will be removed after 2017-03-02.\n",
      "Instructions for updating:\n",
      "Use `tf.global_variables_initializer` instead.\n"
     ]
    },
    {
     "name": "stderr",
     "output_type": "stream",
     "text": [
      "2023-02-14 16:09:16.193824: I tensorflow/core/common_runtime/pluggable_device/pluggable_device_factory.cc:306] Could not identify NUMA node of platform GPU ID 0, defaulting to 0. Your kernel may not have been built with NUMA support.\n",
      "2023-02-14 16:09:16.193847: I tensorflow/core/common_runtime/pluggable_device/pluggable_device_factory.cc:272] Created TensorFlow device (/job:localhost/replica:0/task:0/device:GPU:0 with 0 MB memory) -> physical PluggableDevice (device: 0, name: METAL, pci bus id: <undefined>)\n",
      "2023-02-14 16:09:16.195552: I tensorflow/compiler/mlir/mlir_graph_optimization_pass.cc:357] MLIR V1 optimization pass is not enabled\n",
      "2023-02-14 16:09:16.196495: W tensorflow/tsl/platform/profile_utils/cpu_utils.cc:128] Failed to get CPU frequency: 0 Hz\n",
      "2023-02-14 16:09:16.196793: I tensorflow/core/grappler/optimizers/custom_graph_optimizer_registry.cc:114] Plugin optimizer for device_type GPU is enabled.\n",
      "2023-02-14 16:09:16.424592: I tensorflow/core/grappler/optimizers/custom_graph_optimizer_registry.cc:114] Plugin optimizer for device_type GPU is enabled.\n",
      "2023-02-14 16:09:16.611516: I tensorflow/core/grappler/optimizers/custom_graph_optimizer_registry.cc:114] Plugin optimizer for device_type GPU is enabled.\n",
      "2023-02-14 16:09:16.626853: I tensorflow/core/grappler/optimizers/custom_graph_optimizer_registry.cc:114] Plugin optimizer for device_type GPU is enabled.\n"
     ]
    },
    {
     "name": "stdout",
     "output_type": "stream",
     "text": [
      "step= 0 ce= 111.40705 acc= 0.36839998\n",
      "step= 100 ce= 82.71759 acc= 0.6872\n",
      "step= 200 ce= 70.42372 acc= 0.7664\n",
      "step= 300 ce= 63.31199 acc= 0.81439996\n",
      "step= 400 ce= 58.480614 acc= 0.84459996\n",
      "step= 500 ce= 54.887173 acc= 0.8696\n",
      "step= 600 ce= 52.05828 acc= 0.8876\n",
      "step= 700 ce= 49.74348 acc= 0.9004\n",
      "step= 800 ce= 47.795727 acc= 0.90919995\n",
      "step= 900 ce= 46.12197 acc= 0.91779995\n",
      "step= 1000 ce= 44.659843 acc= 0.9262\n",
      "step= 1100 ce= 43.365685 acc= 0.9338\n",
      "step= 1200 ce= 42.207794 acc= 0.9388\n",
      "step= 1300 ce= 41.162464 acc= 0.94299996\n",
      "step= 1400 ce= 40.21154 acc= 0.9472\n",
      "step= 1500 ce= 39.34082 acc= 0.949\n",
      "step= 1600 ce= 38.53899 acc= 0.95299995\n",
      "step= 1700 ce= 37.796913 acc= 0.95379996\n",
      "step= 1800 ce= 37.10711 acc= 0.95659995\n",
      "step= 1900 ce= 36.463364 acc= 0.9582\n",
      "step= 2000 ce= 35.86049 acc= 0.96019995\n",
      "step= 2100 ce= 35.29409 acc= 0.96239996\n",
      "step= 2200 ce= 34.76043 acc= 0.963\n",
      "step= 2300 ce= 34.256287 acc= 0.964\n",
      "step= 2400 ce= 33.7789 acc= 0.96459997\n",
      "step= 2500 ce= 33.325848 acc= 0.965\n",
      "step= 2600 ce= 32.895008 acc= 0.96519995\n",
      "step= 2700 ce= 32.484535 acc= 0.96599996\n",
      "step= 2800 ce= 32.09279 acc= 0.9666\n",
      "step= 2900 ce= 31.718292 acc= 0.9668\n",
      "step= 3000 ce= 31.359764 acc= 0.9672\n",
      "step= 3100 ce= 31.016022 acc= 0.9676\n",
      "step= 3200 ce= 30.686052 acc= 0.96739995\n",
      "step= 3300 ce= 30.368877 acc= 0.96819997\n",
      "step= 3400 ce= 30.063675 acc= 0.96919996\n",
      "step= 3500 ce= 29.769667 acc= 0.96999997\n",
      "step= 3600 ce= 29.486135 acc= 0.96999997\n",
      "step= 3700 ce= 29.212467 acc= 0.9704\n",
      "step= 3800 ce= 28.948046 acc= 0.9712\n",
      "step= 3900 ce= 28.692362 acc= 0.97139996\n",
      "step= 4000 ce= 28.444912 acc= 0.97139996\n",
      "step= 4100 ce= 28.205242 acc= 0.9712\n",
      "step= 4200 ce= 27.972942 acc= 0.9716\n",
      "step= 4300 ce= 27.747608 acc= 0.97239995\n",
      "step= 4400 ce= 27.528889 acc= 0.9726\n",
      "step= 4500 ce= 27.31646 acc= 0.9726\n",
      "step= 4600 ce= 27.110012 acc= 0.97319996\n",
      "step= 4700 ce= 26.909248 acc= 0.9736\n",
      "step= 4800 ce= 26.713907 acc= 0.9738\n",
      "step= 4900 ce= 26.523731 acc= 0.9738\n"
     ]
    }
   ],
   "source": [
    "# 플레이스홀더 선언\n",
    "x = tf.placeholder(tf.float32, [None, 2], name=\"x\") # 키와 몸무게 데이터 넣기\n",
    "y_ = tf.placeholder(tf.float32, [None, 3]) # 정답 레이블 넣기\n",
    "\n",
    "# 변수 선언\n",
    "W = tf.Variable(tf.random_uniform([2, 3], -1.0, 1.0)); # 가중치\n",
    "b = tf.Variable(tf.zeros([3])); # 바이어스\n",
    "# 소프트맥스 회귀 정의\n",
    "y = tf.nn.softmax(tf.matmul(x, W) + b)\n",
    "\n",
    "# 모델 훈련\n",
    "cross_entropy = -tf.reduce_sum(y_ * tf.log(tf.clip_by_value(y, 1e-10,1.0)))\n",
    "optimizer = tf.train.GradientDescentOptimizer(0.01)\n",
    "train = optimizer.minimize(cross_entropy)\n",
    "\n",
    "# 정답률을 얻기 위해 테스트 데이터 준비\n",
    "test_csv = csv[15000:20000]\n",
    "test_pat = test_csv[[\"weight\",\"height\"]]\n",
    "test_ans = list(test_csv[\"label_pat\"])\n",
    "# 정답률 구하기\n",
    "predict = tf.equal(tf.argmax(y, 1), tf.argmax(y_,1))\n",
    "acc = tf.reduce_mean(tf.cast(predict, \"float\"))\n",
    "\n",
    "# 세션 시작\n",
    "sess = tf.Session()\n",
    "sess.run(tf.initialize_all_variables()) #변수 초기화\n",
    "# 학습\n",
    "for step in range(5000):\n",
    "    i = (step * 100) % 1000\n",
    "    rows = csv[1 + i : 1 + i + 100]\n",
    "    x_pat = rows[[\"weight\",\"height\"]]\n",
    "    y_ans = list(rows[\"label_pat\"])\n",
    "    fd = {x: x_pat, y_: y_ans}\n",
    "    sess.run(train, feed_dict=fd)\n",
    "    if step % 100 == 0:\n",
    "        e = sess.run(cross_entropy, feed_dict=fd)\n",
    "        a = sess.run(acc, feed_dict={x: test_pat, y_: test_ans})\n",
    "        print(\"step=\", step, \"ce=\", e, \"acc=\", a)\n",
    "        "
   ]
  },
  {
   "cell_type": "code",
   "execution_count": 8,
   "metadata": {},
   "outputs": [
    {
     "name": "stdout",
     "output_type": "stream",
     "text": [
      "0.9478\n"
     ]
    },
    {
     "name": "stderr",
     "output_type": "stream",
     "text": [
      "2023-02-14 16:09:25.057944: I tensorflow/core/grappler/optimizers/custom_graph_optimizer_registry.cc:114] Plugin optimizer for device_type GPU is enabled.\n"
     ]
    }
   ],
   "source": [
    "# 데이터 예측\n",
    "test_csv = csv[15000:20000]\n",
    "test_pat = test_csv[[\"weight\",\"height\"]]\n",
    "test_ans = list(test_csv[\"label_pat\"])\n",
    "predict = tf.equal(tf.argmax(y, 1), tf.argmax(y_,1))\n",
    "acc = tf.reduce_mean(tf.cast(predict, \"float\"))\n",
    "r = sess.run(acc, feed_dict={x: test_pat, y_:test_ans})\n",
    "print(r)"
   ]
  },
  {
   "cell_type": "code",
   "execution_count": 9,
   "metadata": {},
   "outputs": [
    {
     "name": "stderr",
     "output_type": "stream",
     "text": [
      "2023-02-14 16:09:29.666842: I tensorflow/core/grappler/optimizers/custom_graph_optimizer_registry.cc:114] Plugin optimizer for device_type GPU is enabled.\n"
     ]
    },
    {
     "name": "stdout",
     "output_type": "stream",
     "text": [
      "[1]\n"
     ]
    }
   ],
   "source": [
    "test = tf.argmax(y, 1)\n",
    "r = sess.run(test, feed_dict={x: [[70/100, 170/200]]})\n",
    "print(r)\n",
    "                                                          "
   ]
  },
  {
   "cell_type": "code",
   "execution_count": null,
   "metadata": {
    "collapsed": true
   },
   "outputs": [],
   "source": []
  }
 ],
 "metadata": {
  "kernelspec": {
   "display_name": "Python 3 (ipykernel)",
   "language": "python",
   "name": "python3"
  },
  "language_info": {
   "codemirror_mode": {
    "name": "ipython",
    "version": 3
   },
   "file_extension": ".py",
   "mimetype": "text/x-python",
   "name": "python",
   "nbconvert_exporter": "python",
   "pygments_lexer": "ipython3",
   "version": "3.10.9"
  }
 },
 "nbformat": 4,
 "nbformat_minor": 1
}
